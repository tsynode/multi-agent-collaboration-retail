{
 "cells": [
  {
   "cell_type": "markdown",
   "id": "fb8d63a2-913e-498a-a01a-5e66a39bf3e7",
   "metadata": {
    "pycharm": {
     "name": "#%% md\n"
    }
   },
   "source": [
    "# Lab 5. Conclusion / Clean Up"
   ]
  },
  {
   "cell_type": "markdown",
   "id": "63678eaa-8830-4cbe-94af-5ebd8b0e03e0",
   "metadata": {
    "pycharm": {
     "name": "#%% md\n"
    }
   },
   "source": [
    "## Conclusion\n",
    "\n",
    "Congratulations!\n",
    "\n",
    "You have been completed all labs for this session. Now you're able to understand how Amazon Bedrock and Agents work, and also, how to orchestrate a multi-step task/workflow using Amazon Bedrock Multi-Agent Collaboration feature.\n",
    "\n",
    "This is an **optional** lab to delete created resources from your AWS account.\n",
    "\n",
    "## Setup\n",
    "\n",
    "Make sure that your boto3 version is the latest one.\n",
    "\n",
    "If not, return no [notebook 1](../1-energy-forecast/1_forecasting_agent.ipynb) and run Setup block again."
   ]
  },
  {
   "cell_type": "code",
   "execution_count": null,
   "id": "b531fbae-738a-499c-b2d8-3c61f2aec0ee",
   "metadata": {
    "pycharm": {
     "name": "#%%\n"
    }
   },
   "outputs": [],
   "source": [
    "!pip freeze | grep boto3"
   ]
  },
  {
   "cell_type": "markdown",
   "id": "1d20d4f7",
   "metadata": {
    "pycharm": {
     "name": "#%% md\n"
    }
   },
   "source": [
    "Restart kernel for packages to take effect"
   ]
  },
  {
   "cell_type": "code",
   "execution_count": null,
   "id": "eb365df3",
   "metadata": {
    "pycharm": {
     "name": "#%%\n"
    }
   },
   "outputs": [],
   "source": [
    "import IPython\n",
    "\n",
    "# IPython.Application.instance().kernel.do_shutdown(True)"
   ]
  },
  {
   "cell_type": "markdown",
   "id": "0bb52531",
   "metadata": {
    "pycharm": {
     "name": "#%% md\n"
    }
   },
   "source": [
    "On following section, we're adding `agents.py` and `knowledge_bases.py` on Python path, so the files can be recognized and invoked."
   ]
  },
  {
   "cell_type": "code",
   "execution_count": null,
   "id": "1324f145",
   "metadata": {
    "pycharm": {
     "name": "#%%\n"
    }
   },
   "outputs": [],
   "source": [
    "import sys\n",
    "\n",
    "sys.path.insert(0, \".\")\n",
    "sys.path.insert(1, \"..\")\n",
    "\n",
    "from utils.bedrock_agent_helper import (\n",
    "    AgentsForAmazonBedrock\n",
    ")\n",
    "from utils.knowledge_base_helper import (\n",
    "    KnowledgeBasesForAmazonBedrock\n",
    ")\n",
    "agents = AgentsForAmazonBedrock()\n",
    "kb = KnowledgeBasesForAmazonBedrock()"
   ]
  },
  {
   "cell_type": "markdown",
   "id": "997a4e44",
   "metadata": {
    "pycharm": {
     "name": "#%% md\n"
    }
   },
   "source": [
    "Retrieve variables from previous notebooks to clean up resources."
   ]
  },
  {
   "cell_type": "code",
   "execution_count": null,
   "id": "99986c91",
   "metadata": {
    "pycharm": {
     "name": "#%%\n"
    }
   },
   "outputs": [],
   "source": [
    "%store -r"
   ]
  },
  {
   "cell_type": "markdown",
   "id": "e5327b71",
   "metadata": {
    "pycharm": {
     "name": "#%% md\n"
    }
   },
   "source": [
    "## Clean Up Resources\n",
    "\n",
    "Following blocks will delete resources created on previous labs."
   ]
  },
  {
   "cell_type": "markdown",
   "id": "47adb2e9-61a2-47d4-aa82-71dcd2e19400",
   "metadata": {
    "pycharm": {
     "name": "#%% md\n"
    }
   },
   "source": [
    "### Delete supervisor agent"
   ]
  },
  {
   "cell_type": "code",
   "execution_count": null,
   "id": "14610a10-a0f2-477d-a453-ab442128288a",
   "metadata": {
    "pycharm": {
     "name": "#%%\n"
    }
   },
   "outputs": [],
   "source": [
    "agents.delete_agent(agent_name=energy_agent_name)"
   ]
  },
  {
   "cell_type": "markdown",
   "id": "77fa8b66-7be8-442a-addd-387d3700715a",
   "metadata": {
    "pycharm": {
     "name": "#%% md\n"
    }
   },
   "source": [
    "### Delete subagents"
   ]
  },
  {
   "cell_type": "code",
   "execution_count": null,
   "id": "239da908-2115-489d-9489-2aa89b9c4c30",
   "metadata": {
    "pycharm": {
     "name": "#%%\n"
    }
   },
   "outputs": [],
   "source": [
    "agents.delete_agent(forecast_agent_name)"
   ]
  },
  {
   "cell_type": "code",
   "execution_count": null,
   "id": "506e1df3-722c-4f5c-8bb9-51d111069c96",
   "metadata": {
    "pycharm": {
     "name": "#%%\n"
    }
   },
   "outputs": [],
   "source": [
    "agents.delete_agent(solar_agent_name)"
   ]
  },
  {
   "cell_type": "code",
   "execution_count": null,
   "id": "550bf448-e761-4b17-8bb4-1d29394ea733",
   "metadata": {
    "pycharm": {
     "name": "#%%\n"
    }
   },
   "outputs": [],
   "source": [
    "agents.delete_agent(peak_agent_name)"
   ]
  },
  {
   "cell_type": "markdown",
   "id": "df79e349",
   "metadata": {
    "pycharm": {
     "name": "#%% md\n"
    }
   },
   "source": [
    "### Delete all Lambda functions\n",
    "\n",
    "Checking that all needed variables were restored:"
   ]
  },
  {
   "cell_type": "code",
   "execution_count": null,
   "id": "7365ba1a",
   "metadata": {
    "pycharm": {
     "name": "#%%\n"
    }
   },
   "outputs": [],
   "source": [
    "forecast_lambda_name, forecast_dynamodb, solar_lambda_name, solar_dynamodb, peak_lambda_name, peak_dynamodb"
   ]
  },
  {
   "cell_type": "code",
   "execution_count": null,
   "id": "62dba01a",
   "metadata": {
    "pycharm": {
     "name": "#%%\n"
    }
   },
   "outputs": [],
   "source": [
    "agents.delete_lambda(forecast_lambda_name, dynamoDB_table=forecast_dynamodb)"
   ]
  },
  {
   "cell_type": "code",
   "execution_count": null,
   "id": "6934c418",
   "metadata": {
    "pycharm": {
     "name": "#%%\n"
    }
   },
   "outputs": [],
   "source": [
    "agents.delete_lambda(solar_lambda_name, dynamoDB_table=solar_dynamodb)"
   ]
  },
  {
   "cell_type": "code",
   "execution_count": null,
   "id": "f73f3b63",
   "metadata": {
    "pycharm": {
     "name": "#%%\n"
    }
   },
   "outputs": [],
   "source": [
    "agents.delete_lambda(peak_lambda_name, dynamoDB_table=peak_dynamodb)"
   ]
  },
  {
   "cell_type": "markdown",
   "id": "2c74e29f",
   "metadata": {
    "pycharm": {
     "name": "#%% md\n"
    }
   },
   "source": [
    "### Delete Knowledge Base\n",
    "\n",
    "Checking that all needed variables were restored:"
   ]
  },
  {
   "cell_type": "code",
   "execution_count": null,
   "id": "9acbdfd2",
   "metadata": {
    "pycharm": {
     "name": "#%%\n"
    }
   },
   "outputs": [],
   "source": [
    "forecast_kb, solar_kb, "
   ]
  },
  {
   "cell_type": "code",
   "execution_count": null,
   "id": "43c8c6da",
   "metadata": {
    "pycharm": {
     "name": "#%%\n"
    }
   },
   "outputs": [],
   "source": [
    "kb.delete_kb(forecast_kb)"
   ]
  },
  {
   "cell_type": "code",
   "execution_count": null,
   "id": "652f477a",
   "metadata": {
    "pycharm": {
     "name": "#%%\n"
    }
   },
   "outputs": [],
   "source": [
    "kb.delete_kb(solar_kb)"
   ]
  },
  {
   "cell_type": "code",
   "execution_count": null,
   "id": "be9a4f58",
   "metadata": {},
   "outputs": [],
   "source": [
    "kb.delete_kb(peak_kb)"
   ]
  },
  {
   "cell_type": "markdown",
   "id": "7f336109-9d4b-46f2-8821-c5b07ec3df7d",
   "metadata": {},
   "source": [
    "### Delete BDA project"
   ]
  },
  {
   "cell_type": "markdown",
   "id": "3705d199-4098-4ef1-8646-5d7c7f816ff2",
   "metadata": {
    "pycharm": {
     "name": "#%% md\n"
    }
   },
   "source": [
    "## Congratulations!\n",
    "You have now completed this lab!"
   ]
  }
 ],
 "metadata": {
  "kernelspec": {
   "display_name": "conda_python3",
   "language": "python",
   "name": "conda_python3"
  },
  "language_info": {
   "codemirror_mode": {
    "name": "ipython",
    "version": 3
   },
   "file_extension": ".py",
   "mimetype": "text/x-python",
   "name": "python",
   "nbconvert_exporter": "python",
   "pygments_lexer": "ipython3",
   "version": "3.10.16"
  }
 },
 "nbformat": 4,
 "nbformat_minor": 5
}
