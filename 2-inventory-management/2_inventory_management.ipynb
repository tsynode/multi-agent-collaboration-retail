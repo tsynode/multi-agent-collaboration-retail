{
 "cells": [
  {
   "cell_type": "markdown",
   "metadata": {},
   "source": [
    "# Lab 2. Inventory Management"
   ]
  },
  {
   "cell_type": "markdown",
   "metadata": {},
   "source": [
    "## Introduction\n",
    "\n",
    "In this notebook we show you how to create your second sub-agent on Amazon Bedrock Agents.\n",
    "\n",
    "This agent contains instructions on how to manage and maintain inventory for different product lines, where retail managers can ask the agent to return these information from an [Amazon Bedrock Knowledge Base](https://aws.amazon.com/bedrock/knowledge-bases/).\n",
    "\n",
    "To equip foundation models (FMs) with up-to-date and proprietary information, organizations use Retrieval Augmented Generation (RAG), a technique that fetches data from company data sources and enriches the prompt to provide more relevant and accurate responses. \n",
    "\n",
    "Amazon Bedrock Knowledge Bases is Bedrock's fully managed capability that helps you implement the entire RAG workflow from ingestion to retrieval and prompt augmentation without having to build custom integrations to data sources and manage data flows.\n",
    "\n",
    "In the context of our agent, if the answer to a question is not present on the Knowledge Base, store managers can ask the agent to create a support ticket, to get a human in the loop to help with their questions.\n",
    "\n",
    "The following represents the piece of architecture that will be built on this module.\n",
    "\n",
    "![Architecture](img/solar_panel_agent.png)"
   ]
  },
  {
   "cell_type": "markdown",
   "metadata": {},
   "source": [
    "## Setup"
   ]
  },
  {
   "cell_type": "markdown",
   "metadata": {},
   "source": [
    "Make sure that your boto3 version is the latest\n",
    "\n",
    "If not, return to [notebook 1](../1-energy-forecast/1_forecasting_agent.ipynb) and run the Setup block again."
   ]
  },
  {
   "cell_type": "code",
   "execution_count": null,
   "metadata": {},
   "outputs": [],
   "source": [
    "!pip freeze | grep boto3"
   ]
  },
  {
   "cell_type": "markdown",
   "metadata": {},
   "source": [
    "Get your workshop ID / resource suffix. If not found, return to [notebook 1](../1-energy-forecast/1_forecasting_agent.ipynb) and run the Setup block again."
   ]
  },
  {
   "cell_type": "code",
   "execution_count": null,
   "metadata": {},
   "outputs": [],
   "source": [
    "import os\n",
    "\n",
    "def get_workshop_id():\n",
    "    workshop_id_file = '../.workshop_id'\n",
    "    if os.path.exists(workshop_id_file):\n",
    "        with open(workshop_id_file, 'r') as f:\n",
    "            return f.read().strip()\n",
    "    else:\n",
    "        return None\n",
    "    \n",
    "workshop_id = get_workshop_id()\n",
    "resource_suffix = f\"{workshop_id}\"\n",
    "\n",
    "if workshop_id is None:\n",
    "    print(\"No workshop ID found. Please run the Setup script in notebook 1.\")\n",
    "else:\n",
    "    print(\"Your resource suffix is\", resource_suffix)"
   ]
  },
  {
   "cell_type": "markdown",
   "metadata": {},
   "source": [
    "## Creating Agent\n",
    "\n",
    "On this section we declare global variables that will be act as helpers during entire notebook and we will start to create out second agent."
   ]
  },
  {
   "cell_type": "code",
   "execution_count": null,
   "metadata": {},
   "outputs": [],
   "source": [
    "import boto3\n",
    "import os\n",
    "\n",
    "sts_client = boto3.client('sts')\n",
    "session = boto3.session.Session()\n",
    "\n",
    "account_id = sts_client.get_caller_identity()[\"Account\"]\n",
    "region = session.region_name\n",
    "s3_client = boto3.client('s3', region)\n",
    "bedrock_client = boto3.client('bedrock-runtime', region)\n",
    "\n",
    "agent_foundation_model = [\n",
    "    'anthropic.claude-3-haiku-20240307-v1:0',\n",
    "    'anthropic.claude-3-sonnet-20240229-v1:0',\n",
    "    'anthropic.claude-3-5-sonnet-20240620-v1:0'\n",
    "]"
   ]
  },
  {
   "cell_type": "code",
   "execution_count": null,
   "metadata": {},
   "outputs": [],
   "source": [
    "inventory_agent_name = f\"inventory-mgmt-{resource_suffix}\"\n",
    "\n",
    "inventory_lambda_name = f\"fn-inventory-mgmt-{resource_suffix}\"\n",
    "\n",
    "inventory_agent_role_name = f'AmazonBedrockExecutionRoleForAgents_{inventory_agent_name}'\n",
    "\n",
    "dynamodb_table = f\"{inventory_agent_name}-table\"\n",
    "dynamodb_pk = \"customer_id\"\n",
    "dynamodb_sk = \"ticket_id\"\n",
    "\n",
    "dynamoDB_args = [dynamodb_table, dynamodb_pk, dynamodb_sk]\n",
    "\n",
    "knowledge_base_name = f'inv-kb-{resource_suffix}'\n",
    "\n",
    "knowledge_base_description = \"KB containing inventory management guidelines for stocking and maintenance\"\n",
    "bucket_name = f'inventory-mgmt-kb-{account_id}-{resource_suffix}'"
   ]
  },
  {
   "cell_type": "markdown",
   "metadata": {},
   "source": [
    "### Importing helper functions\n",
    "\n",
    "In the following section, we're adding `bedrock_agent_helper.py` and `knowledge_base_helper` on Python path, so the files can be recognized and their functionalities can be invoked.\n",
    "\n",
    "Now, you're going to import from helper classes `bedrock_agent_helper.py` and `knowledge_base_helper.py`.\n",
    " \n",
    "Those files contain helper classes totally focused on make labs experience smoothly. \n",
    "\n",
    "All interactions with Bedrock will be handled by these classes.\n",
    "\n",
    "Following are methods that you're going to invoke on this lab:\n",
    "\n",
    "In `agents.py`:\n",
    "- `create_agent`: Create a new agent and respective IAM roles\n",
    "- `add_action_group_with_lambda`: Create a lambda function and add it as an action group for a previous created agent\n",
    "- `create_agent_alias`: Create an alias for this agent\n",
    "- `invoke`: Execute agent\n",
    "\n",
    "In `knowledge_bases.py`:\n",
    "- `create_or_retrieve_knowledge_base`: Create Knowledge Base on Amazon Bedrock if it doesn't exist or get info about previous created.\n",
    "- `synchronize_data`: Read files on S3, convert text info into vectors and add that information on Vector Database."
   ]
  },
  {
   "cell_type": "code",
   "execution_count": null,
   "metadata": {},
   "outputs": [],
   "source": [
    "import sys\n",
    "\n",
    "sys.path.insert(0, \".\")\n",
    "sys.path.insert(1, \"..\")\n",
    "\n",
    "from utils.bedrock_agent_helper import (\n",
    "    AgentsForAmazonBedrock\n",
    ")\n",
    "from utils.knowledge_base_helper import (\n",
    "    KnowledgeBasesForAmazonBedrock\n",
    ")\n",
    "agents = AgentsForAmazonBedrock()\n",
    "kb = KnowledgeBasesForAmazonBedrock()"
   ]
  },
  {
   "cell_type": "markdown",
   "metadata": {},
   "source": [
    "## Create and Load Knowledge Base\n",
    "\n",
    "In this section, you're going to create a Amazon Bedrock Knowledge Base and ingest data on it.\n",
    "\n",
    "In the next steps we will generate the data used to populate the knowledge base. It will be composed of instructions on how to handle inventory management\n",
    "\n",
    "**This creation process takes several minutes.**"
   ]
  },
  {
   "cell_type": "code",
   "execution_count": null,
   "metadata": {},
   "outputs": [],
   "source": [
    "%%time\n",
    "kb_id, ds_id = kb.create_or_retrieve_knowledge_base(\n",
    "    knowledge_base_name,\n",
    "    knowledge_base_description,\n",
    "    bucket_name\n",
    ")\n",
    "\n",
    "print(f\"Knowledge Base ID: {kb_id}\")\n",
    "print(f\"Data Source ID: {ds_id}\")"
   ]
  },
  {
   "cell_type": "markdown",
   "metadata": {},
   "source": [
    "### Create Synthetic Data to Load on S3\n",
    "\n",
    "Instead of get data elsewhere, you're going to generate data, using a LLM on Amazon Bedrock.\n",
    "This fake data that will be generated, will be uploaded into a S3 bucket and then added into an Amazon Bedrock Knowledge Base."
   ]
  },
  {
   "cell_type": "code",
   "execution_count": null,
   "metadata": {},
   "outputs": [],
   "source": [
    "path = \"kb_documents\"\n",
    "# Check whether the specified path exists or not\n",
    "isExist = os.path.exists(path)\n",
    "if not isExist:\n",
    "   # Create a n ew directory if it does not exist\n",
    "   os.makedirs(path)\n",
    "   print(\"The {} directory was created!\".format(path))\n",
    "else:\n",
    "   print(\"The {} directory already exists!\".format(path))"
   ]
  },
  {
   "cell_type": "markdown",
   "metadata": {},
   "source": [
    "Creating helper methods to invoke LLM on Bedrock and to write a local file using Python"
   ]
  },
  {
   "cell_type": "code",
   "execution_count": null,
   "metadata": {},
   "outputs": [],
   "source": [
    "def invoke_bedrock_generate_inventory_files(prompt):\n",
    "    message_list = []\n",
    "\n",
    "    initial_message = {\n",
    "        \"role\": \"user\",\n",
    "        \"content\": [\n",
    "            { \"text\": prompt } \n",
    "        ],\n",
    "    }\n",
    "\n",
    "    message_list.append(initial_message)\n",
    "\n",
    "    response = bedrock_client.converse(\n",
    "        modelId=agent_foundation_model[0],\n",
    "        messages=message_list,\n",
    "        inferenceConfig={\n",
    "            \"maxTokens\": 2048,\n",
    "            \"temperature\": 0\n",
    "        },\n",
    "    )\n",
    "\n",
    "    return response['output']['message']\n",
    "\n",
    "\n",
    "def write_file(file_name, content):\n",
    "    f = open(file_name, 'w')\n",
    "    f.write(content)\n",
    "    f.close()"
   ]
  },
  {
   "cell_type": "markdown",
   "metadata": {},
   "source": [
    "Generating one file with instructions on inventory stocking guidelines."
   ]
  },
  {
   "cell_type": "code",
   "execution_count": null,
   "metadata": {},
   "outputs": [],
   "source": [
    "text_generation_inventory_instructions = '''\n",
    "    You will be act as an expert in retail inventory management.\n",
    "    You will generate guidelines on how to stock inventory for different product lines in a retail setting.\n",
    "    You know the following fictional product lines: Premium Series, Standard Collection, and Value Basics.\n",
    "    For each product line, provide some general description and its features. \n",
    "    Next provide a numbered list describing how to properly stock each product line in a retail store. \n",
    "    Include information about how to ensure compliance with company inventory standards.\n",
    "\n",
    "    Answer only with the instructions and product line descriptions.\n",
    "    Avoid answer with affirmations like: \"OK, I can generate it,\",\n",
    "    \"As an expert on inventory management, I \", or \"Yes, please find following example.\"\n",
    "    Be direct and only reply the instructions and descriptions.\n",
    "'''\n",
    "\n",
    "inventory_file_name = 'inventory-stocking-guidelines.txt'\n",
    "\n",
    "response_message = invoke_bedrock_generate_inventory_files(\n",
    "    text_generation_inventory_instructions\n",
    ")\n",
    "description_and_instructions = response_message['content'][0]['text']\n",
    "print(f\"Generated data:\\n{description_and_instructions}\")\n",
    "write_file(\n",
    "    '{}/{}'.format(path, inventory_file_name),\n",
    "    description_and_instructions\n",
    ")"
   ]
  },
  {
   "cell_type": "markdown",
   "metadata": {},
   "source": [
    "### Generating data prompt\n",
    "Generating another file with instructions on inventory maintenance procedures."
   ]
  },
  {
   "cell_type": "code",
   "execution_count": null,
   "metadata": {},
   "outputs": [],
   "source": [
    "text_generation_inventory_maintenance = f'''\n",
    "    You will be act as an expert in retail inventory management.\n",
    "    You know the following fictional product lines: Premium Series, Standard Collection, and Value Basics. \n",
    "    Here are some descriptions of the different product lines and how to stock them:\n",
    "    <description_and_instructions>\n",
    "    {description_and_instructions}\n",
    "    </description_and_instructions>\n",
    "    Generate step-by-step instructions on how to properly maintain inventory for each of\n",
    "    these product lines in a retail store setting. Include information about\n",
    "    how to ensure consistent compliance with company inventory standards.\n",
    "    Format your response as a numbered list for each product line.\n",
    "'''\n",
    "\n",
    "inventory_maintenance_file_name = 'inventory-maintenance.txt'\n",
    "\n",
    "response_message = invoke_bedrock_generate_inventory_files(\n",
    "    text_generation_inventory_maintenance\n",
    ")\n",
    "print(f\"Generated data:\\n{response_message['content'][0]['text']}\")\n",
    "\n",
    "write_file(\n",
    "    '{}/{}'.format(path, inventory_maintenance_file_name),\n",
    "    response_message['content'][0]['text']\n",
    ")"
   ]
  },
  {
   "cell_type": "markdown",
   "metadata": {},
   "source": [
    "### Uploading data to S3\n",
    "Uploading generated files into S3 Bucket."
   ]
  },
  {
   "cell_type": "code",
   "execution_count": null,
   "metadata": {},
   "outputs": [],
   "source": [
    "def upload_directory(path, bucket_name):\n",
    "    for root,dirs,files in os.walk(path):\n",
    "        for file in files:\n",
    "            file_to_upload = os.path.join(root,file)\n",
    "            print(f\"uploading file {file_to_upload} to {bucket_name}\")\n",
    "            s3_client.upload_file(file_to_upload,bucket_name,file)"
   ]
  },
  {
   "cell_type": "markdown",
   "metadata": {},
   "source": [
    "### Synchronizing Knowledge Base\n",
    "Now that the data is available in the s3 bucket, let's synchronize it to our knowledge base"
   ]
  },
  {
   "cell_type": "code",
   "execution_count": null,
   "metadata": {},
   "outputs": [],
   "source": [
    "upload_directory(\"kb_documents\", bucket_name)\n",
    "\n",
    "# sync knowledge base\n",
    "kb.synchronize_data(kb_id, ds_id)"
   ]
  },
  {
   "cell_type": "markdown",
   "metadata": {},
   "source": [
    "## Creating Agent\n",
    "\n",
    "Create the Inventory Management agent that will have a Knowledge Base and also a Lambda action group to handle exception workflow (when information is not found on KB).\n",
    "\n",
    "For this agent we will use the following instructions:\n",
    "```\n",
    "You are an Inventory Management Assistant that helps store managers with inventory stocking and maintenance guidance.\n",
    "\n",
    "Your capabilities include:\n",
    "1. Providing stocking instructions\n",
    "2. Providing inventory maintenance procedures\n",
    "3. Troubleshooting common inventory issues\n",
    "4. Creating support tickets for specialist assistance\n",
    "\n",
    "Core behaviors:\n",
    "1. Always use available information before asking managers for additional details\n",
    "2. Maintain a professional yet approachable tone\n",
    "3. Provide clear, direct answers\n",
    "4. Present technical information in an easy-to-understand manner\n",
    "5. NEVER invent information not available in your knowledge base\n",
    "\n",
    "Support ticket protocol:\n",
    "- Only generate tickets for specialist-level issues\n",
    "- Respond exclusively with case ID when creating tickets\n",
    "- Decline providing specialist advice beyond your scope\n",
    "\n",
    "Response style:\n",
    "- Be helpful and solution-oriented\n",
    "- Use clear, practical language\n",
    "- Focus on actionable guidance\n",
    "- Maintain natural conversation flow\n",
    "- Be concise yet informative\n",
    "- Do not add extra information not required by the user\n",
    "```\n",
    "We will also connect a knowledge base with the information about inventory management\n",
    "\n",
    "```\n",
    "Access the knowledge base when users ask about inventory stocking and maintenance procedures\n",
    "```\n",
    "And we will make the following tool available to the agent:\n",
    "- `open_ticket`: to open new support tickets\n",
    "- `get_ticket_status`: to get the current status of an existing ticket"
   ]
  },
  {
   "cell_type": "code",
   "execution_count": null,
   "metadata": {},
   "outputs": [],
   "source": [
    "kb_info = kb.get_kb(kb_id)\n",
    "kb_arn = kb_info['knowledgeBase']['knowledgeBaseArn']"
   ]
  },
  {
   "cell_type": "code",
   "execution_count": null,
   "metadata": {},
   "outputs": [],
   "source": [
    "kb_config = {\n",
    "    'kb_id': kb_id,\n",
    "    'kb_instruction': 'Access the knowledge base when users ask about inventory stocking and maintenance procedures'\n",
    "}"
   ]
  },
  {
   "cell_type": "code",
   "execution_count": null,
   "metadata": {},
   "outputs": [],
   "source": [
    "agent_instruction = \"\"\"You are an Inventory Management Assistant that helps store managers with inventory stocking and maintenance guidance.\n",
    "\n",
    "Your capabilities include:\n",
    "1. Providing stocking instructions\n",
    "2. Offering inventory maintenance procedures\n",
    "3. Troubleshooting common inventory issues\n",
    "4. Creating support tickets for specialist assistance\n",
    "\n",
    "Core behaviors:\n",
    "1. Always use available information before asking managers for additional details\n",
    "2. Maintain a professional yet approachable tone\n",
    "3. Provide clear, direct answers\n",
    "4. Present technical information in an easy-to-understand manner\n",
    "5. NEVER invent information not available in your knowledge base\n",
    "\n",
    "Support ticket protocol:\n",
    "- Only generate tickets for specialist-level issues\n",
    "- Respond exclusively with case ID when creating tickets\n",
    "- Decline providing specialist advice beyond your scope\n",
    "\n",
    "Response style:\n",
    "- Be helpful and solution-oriented\n",
    "- Use clear, practical language\n",
    "- Focus on actionable guidance\n",
    "- Maintain natural conversation flow\n",
    "- Be concise yet informative\n",
    "- Do not add extra information not required by the user\"\"\"\n",
    "\n",
    "agent_description = \"\"\"You are an inventory management helper bot. \n",
    "    You can retrieve information on how to stock and maintain inventory for different product lines\"\"\"\n",
    "\n",
    "inventory_agent = agents.create_agent(\n",
    "    inventory_agent_name,\n",
    "    agent_description,\n",
    "    agent_instruction,\n",
    "    agent_foundation_model,\n",
    "    kb_arns=[kb_arn]\n",
    ")\n",
    "inventory_agent"
   ]
  },
  {
   "cell_type": "code",
   "execution_count": null,
   "metadata": {},
   "outputs": [],
   "source": [
    "agents.associate_kb_with_agent(\n",
    "    inventory_agent[0], kb_config['kb_instruction'], kb_config['kb_id']\n",
    ")"
   ]
  },
  {
   "cell_type": "markdown",
   "metadata": {},
   "source": [
    "### Creating Action Group\n",
    "\n",
    "On this session, we're going create an action group to handle support tickets and associate it with our agent. To do so, we will first create a Lambda function code to fulfill the execution of the agent's actions Next we will define the actions available actions that an agent can take using function details. Similar to the previous agent, you can also define the actions available using OpenAPI Schema.\n",
    "\n",
    "#### Creating Lambda function\n",
    "First let's create the lambda function"
   ]
  },
  {
   "cell_type": "code",
   "execution_count": null,
   "metadata": {},
   "outputs": [],
   "source": [
    "%%writefile inventory.py\n",
    "import os\n",
    "import json\n",
    "import uuid\n",
    "import boto3\n",
    "\n",
    "from boto3.dynamodb.conditions import Key, Attr\n",
    "\n",
    "dynamodb_resource = boto3.resource('dynamodb')\n",
    "dynamodb_table = os.getenv('dynamodb_table')\n",
    "dynamodb_pk = os.getenv('dynamodb_pk')\n",
    "dynamodb_sk = os.getenv('dynamodb_sk')\n",
    "\n",
    "def get_named_parameter(event, name):\n",
    "    try:\n",
    "        return next(item for item in event['parameters'] if item['name'] == name)['value']\n",
    "    except:\n",
    "        return None\n",
    "    \n",
    "def populate_function_response(event, response_body):\n",
    "    return {'response': {'actionGroup': event['actionGroup'], 'function': event['function'],\n",
    "                'functionResponse': {'responseBody': {'TEXT': {'body': str(response_body)}}}}}\n",
    "\n",
    "def put_dynamodb(table_name, item):\n",
    "    table = dynamodb_resource.Table(table_name)\n",
    "    resp = table.put_item(Item=item)\n",
    "    return resp\n",
    "\n",
    "def read_dynamodb(table_name: str, \n",
    "                   pk_field: str,\n",
    "                   pk_value: str,\n",
    "                   sk_field: str=None, \n",
    "                   sk_value: str=None):\n",
    "    try:\n",
    "        table = dynamodb_resource.Table(table_name)\n",
    "        # Create expression\n",
    "        if sk_value:\n",
    "            key_expression = Key(pk_field).eq(pk_value) & Key(sk_field).begins_with(sk_value)\n",
    "        else:\n",
    "            key_expression = Key(pk_field).eq(pk_value)\n",
    "\n",
    "        query_data = table.query(\n",
    "            KeyConditionExpression=key_expression\n",
    "        )\n",
    "        \n",
    "        return query_data['Items']\n",
    "    except Exception:\n",
    "        print(f'Error querying table: {table_name}.')\n",
    "\n",
    "def open_ticket(store_id, msg):\n",
    "    ticket_id = str(uuid.uuid1())\n",
    "    item = {\n",
    "        'ticket_id': ticket_id,\n",
    "        'customer_id': store_id,\n",
    "        'description': msg,\n",
    "        'status': 'created'\n",
    "    }\n",
    "    resp = put_dynamodb(dynamodb_table, item)\n",
    "    print(resp)\n",
    "    return f\"Thanks for contacting inventory support, Store #{store_id}! Your support case was generated with ID: {ticket_id}\"\n",
    "\n",
    "def get_ticket_status(store_id,\n",
    "                      ticket_id: str=None):\n",
    "    return read_dynamodb(dynamodb_table, \n",
    "                         dynamodb_pk,\n",
    "                         store_id,\n",
    "                         dynamodb_sk,\n",
    "                         ticket_id)\n",
    "\n",
    "def lambda_handler(event, context):\n",
    "    print(event)\n",
    "    \n",
    "    # name of the function that should be invoked\n",
    "    function = event.get('function', '')\n",
    "\n",
    "    # parameters to invoke function with\n",
    "    parameters = event.get('parameters', [])\n",
    "    store_id = get_named_parameter(event, \"store_id\")\n",
    "\n",
    "    if function == 'open_ticket':\n",
    "        msg = get_named_parameter(event, \"msg\")\n",
    "        result = open_ticket(store_id, msg)\n",
    "    elif function == 'get_ticket_status':\n",
    "        ticket_id = get_named_parameter(event, \"ticket_id\")\n",
    "        result = get_ticket_status(store_id, ticket_id)\n",
    "    else:\n",
    "        result = f\"Error, function '{function}' not recognized\"\n",
    "\n",
    "    response = populate_function_response(event, result)\n",
    "    print(response)\n",
    "    return response"
   ]
  },
  {
   "cell_type": "markdown",
   "metadata": {},
   "source": [
    "### Defining available actions\n",
    "Now it's time to define the actions that can be taken by the agent"
   ]
  },
  {
   "cell_type": "code",
   "execution_count": null,
   "metadata": {},
   "outputs": [],
   "source": [
    "functions_def =[\n",
    "    {\n",
    "        \"name\": \"open_ticket\",\n",
    "        \"description\": \"\"\"Create a ticket to get help with information related to inventory management\"\"\",\n",
    "        \"parameters\": {\n",
    "            \"store_id\": {\n",
    "                \"description\": \"Unique store identifier\",\n",
    "                \"required\": True,\n",
    "                \"type\": \"string\"\n",
    "            },\n",
    "            \"msg\": {\n",
    "                \"description\": \"The reason why store manager is opening a ticket\",\n",
    "                \"required\": True,\n",
    "                \"type\": \"string\"\n",
    "            }\n",
    "        }\n",
    "    },\n",
    "    {\n",
    "        \"name\": \"get_ticket_status\",\n",
    "        \"description\": \"\"\"get the status of an existing ticket\"\"\",\n",
    "        \"parameters\": {\n",
    "            \"store_id\": {\n",
    "                \"description\": \"Unique store identifier\",\n",
    "                \"required\": True,\n",
    "                \"type\": \"string\"\n",
    "            },\n",
    "            \"ticket_id\": {\n",
    "                \"description\": \"Unique ticket identifier\",\n",
    "                \"required\": False,\n",
    "                \"type\": \"string\"\n",
    "            }\n",
    "        }\n",
    "    }\n",
    "]"
   ]
  },
  {
   "cell_type": "markdown",
   "metadata": {},
   "source": [
    "#### Associating action group to agent\n",
    "Finally, we can associate a new action group with our previously created agent"
   ]
  },
  {
   "cell_type": "code",
   "execution_count": null,
   "metadata": {},
   "outputs": [],
   "source": [
    "resp = agents.add_action_group_with_lambda(\n",
    "    agent_name=inventory_agent_name,\n",
    "    lambda_function_name=inventory_lambda_name,\n",
    "    source_code_file=\"inventory.py\",\n",
    "    agent_functions=functions_def,\n",
    "    agent_action_group_name=\"inventory_actions\",\n",
    "    agent_action_group_description=\"Function to open an inventory support ticket for a store or get status from an opened ticket\",\n",
    "    dynamo_args=dynamoDB_args\n",
    ")"
   ]
  },
  {
   "cell_type": "markdown",
   "metadata": {},
   "source": [
    "## Testing Agent\n",
    "\n",
    "Now, let's run some tests on the agent we just created to make sure it's working. To do so we will use our test alias: `TSTALIASID` which allows you to invoke a draft version of your agent\n",
    "\n",
    "### Testing maintenance question\n",
    "First let's ask a question related to maintaining inventory"
   ]
  },
  {
   "cell_type": "code",
   "execution_count": null,
   "metadata": {},
   "outputs": [],
   "source": [
    "%%time\n",
    "response = agents.invoke(\n",
    "    \"how can I check if my Premium Series inventory is compliant with company standards?\", \n",
    "    inventory_agent[0], enable_trace=True\n",
    ")\n",
    "print(\"====================\")\n",
    "print(response)"
   ]
  },
  {
   "cell_type": "markdown",
   "metadata": {},
   "source": [
    "### Testing stocking question\n",
    "Next let's ask a question related to stocking inventory"
   ]
  },
  {
   "cell_type": "code",
   "execution_count": null,
   "metadata": {},
   "outputs": [],
   "source": [
    "%%time\n",
    "response = agents.invoke(\n",
    "    \"how should I stock Value Basics products in my store?\", \n",
    "    inventory_agent[0], enable_trace=True\n",
    ")\n",
    "print(\"====================\")\n",
    "print(response)"
   ]
  },
  {
   "cell_type": "markdown",
   "metadata": {},
   "source": [
    "### Testing personalized support\n",
    "Let's now create a support ticket. To do so we will pass our store id to trigger the support ticket creation process"
   ]
  },
  {
   "cell_type": "code",
   "execution_count": null,
   "metadata": {},
   "outputs": [],
   "source": [
    "%%time\n",
    "ticket = agents.invoke(\n",
    "    \"I need help setting up the Premium Series display in my store. My store id is 1\", \n",
    "    inventory_agent[0], enable_trace=True\n",
    ")\n",
    "print(\"====================\")\n",
    "print(ticket)"
   ]
  },
  {
   "cell_type": "markdown",
   "metadata": {},
   "source": [
    "### Testing getting support ticket details\n",
    "Now let's get the details for our support ticket. For that you will need to provide the ticket id just generated in the previous query to `create_ticket`"
   ]
  },
  {
   "cell_type": "code",
   "execution_count": null,
   "metadata": {},
   "outputs": [],
   "source": [
    "%%time\n",
    "response = agents.invoke(\n",
    "    \"Can I get details on my ticket? My store id is 1 get my ticket id from our previous conversation {}\".format(ticket), \n",
    "    inventory_agent[0], enable_trace=True\n",
    ")\n",
    "print(\"====================\")\n",
    "print(response)"
   ]
  },
  {
   "cell_type": "markdown",
   "metadata": {},
   "source": [
    "### Testing get open support tickets\n",
    "Let's also check if our agent can get the details for more than one open case. To do so we will first create a new support case"
   ]
  },
  {
   "cell_type": "code",
   "execution_count": null,
   "metadata": {},
   "outputs": [],
   "source": [
    "%%time\n",
    "response = agents.invoke(\n",
    "    \"I need help with inventory rotation procedures for Standard Collection items. My store id is 1\", \n",
    "    inventory_agent[0], enable_trace=True\n",
    ")\n",
    "print(\"====================\")\n",
    "print(response)"
   ]
  },
  {
   "cell_type": "markdown",
   "metadata": {},
   "source": [
    "Next we will request the overview of all open tickets"
   ]
  },
  {
   "cell_type": "code",
   "execution_count": null,
   "metadata": {},
   "outputs": [],
   "source": [
    "%%time\n",
    "response = agents.invoke(\n",
    "    \"Can I get all tickets that I have? My store id is 1\", \n",
    "    inventory_agent[0], enable_trace=True\n",
    ")\n",
    "print(\"====================\")\n",
    "print(response)"
   ]
  },
  {
   "cell_type": "markdown",
   "metadata": {},
   "source": [
    "## Create alias\n",
    "\n",
    "As you can see, you can use your agent with the `TSTALIASID` to complete tasks. \n",
    "However, for multi-agents collaboration it is expected that you first test your agent and only use it once it is fully functional. \n",
    "Therefore to use an agent as a sub-agent in a multi-agent collaboration you first need to create an agent alias and connect it to a new version. \n",
    "\n",
    "Since we've tested and validated our agent, let's now create an alias for it:"
   ]
  },
  {
   "cell_type": "code",
   "execution_count": null,
   "metadata": {},
   "outputs": [],
   "source": [
    "inventory_agent_alias_id, inventory_agent_alias_arn = agents.create_agent_alias(\n",
    "    inventory_agent[0], 'v1'\n",
    ")\n",
    "inventory_agent_id = inventory_agent[0]"
   ]
  },
  {
   "cell_type": "markdown",
   "metadata": {},
   "source": [
    "Store environment variables to be used on next notebooks."
   ]
  },
  {
   "cell_type": "code",
   "execution_count": null,
   "metadata": {},
   "outputs": [],
   "source": [
    "inventory_agent_arn = agents.get_agent_arn_by_name(inventory_agent_name)\n",
    "inventory_kb = knowledge_base_name\n",
    "inventory_dynamodb = dynamodb_table\n",
    "\n",
    "%store inventory_agent_arn\n",
    "%store inventory_agent_alias_arn\n",
    "%store inventory_agent_alias_id\n",
    "%store inventory_lambda_name\n",
    "%store inventory_agent_name\n",
    "%store inventory_agent_id\n",
    "%store inventory_kb\n",
    "%store inventory_dynamodb"
   ]
  },
  {
   "cell_type": "code",
   "execution_count": null,
   "metadata": {},
   "outputs": [],
   "source": [
    "inventory_agent_arn, inventory_agent_alias_arn, inventory_agent_alias_id"
   ]
  },
  {
   "cell_type": "markdown",
   "metadata": {},
   "source": [
    "## Next Steps\n",
    "Congratulations! We've now created an inventory management agent. Next we will create our store operations manager agent"
   ]
  }
 ],
 "metadata": {
  "language_info": {
   "name": "python"
  }
 },
 "nbformat": 4,
 "nbformat_minor": 4
}